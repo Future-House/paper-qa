{
 "cells": [
  {
   "cell_type": "code",
   "execution_count": 1,
   "metadata": {},
   "outputs": [
    {
     "name": "stdout",
     "output_type": "stream",
     "text": [
      "Cloning into 'rag-qa-arena'...\n",
      "remote: Enumerating objects: 55, done.\u001b[K\n",
      "remote: Counting objects: 100% (55/55), done.\u001b[K\n",
      "remote: Compressing objects: 100% (48/48), done.\u001b[K\n",
      "remote: Total 55 (delta 15), reused 41 (delta 7), pack-reused 0 (from 0)\u001b[K\n",
      "Receiving objects: 100% (55/55), 3.59 MiB | 3.50 MiB/s, done.\n",
      "Resolving deltas: 100% (15/15), done.\n",
      "mkdir: rag-qa-benchmarking: File exists\n"
     ]
    }
   ],
   "source": [
    "# !git clone https://github.com/awslabs/rag-qa-arena\n",
    "# !mkdir rag-qa-benchmarking\n",
    "# !mv rag-qa-arena/data/annotations_science_with_citation.jsonl ./rag-qa-benchmarking/\n",
    "# !rm -rf rag-qa-arena"
   ]
  },
  {
   "cell_type": "code",
   "execution_count": 2,
   "metadata": {},
   "outputs": [
    {
     "name": "stdout",
     "output_type": "stream",
     "text": [
      "  % Total    % Received % Xferd  Average Speed   Time    Time     Time  Current\n",
      "                                 Dload  Upload   Total   Spent    Left  Speed\n",
      "100 3410M  100 3410M    0     0  5161k      0  0:11:16  0:11:16 --:--:-- 5196k2  0:10:15 5207k02  0:01:16  0:09:46 5216k2  0:01:23  0:09:39 5207k   0  5258k      0  0:11:04  0:01:49  0:09:15 5229k5235k     0  0:11:05  0:02:19  0:08:46 5220k:05  0:02:31  0:08:34 5229k5  0:03:03  0:08:02 5206k11:06  0:03:26  0:07:40 5165k1:08  0:04:16  0:06:52 5195k  0:04:20  0:06:48 5181k:35  0:06:33 5188k 0  0:11:09  0:04:48  0:06:21 5181k  5217k      0  0:11:09  0:04:56  0:06:13 5113k      0  0:11:09  0:05:09  0:06:00 5124k0     0  5211k      0  0:11:10  0:05:15  0:05:55 5121k    0  5202k      0  0:11:11  0:05:52  0:05:19 5122k    0  0:11:11  0:05:57  0:05:14 5120k 0  0:11:12  0:06:16  0:04:56 5120k0  0:11:12  0:06:50  0:04:22 5116k89k      0  0:11:12  0:06:57  0:04:15 5117k  5180k      0  0:11:14  0:08:01  0:03:13 5122k0  5179k      0  0:11:14  0:08:06  0:03:08 5127k 0:08:13  0:03:01 5179k0:08:18  0:02:56 5192k 0  5175k      0  0:11:14  0:08:27  0:02:47 5168k     0  5175k      0  0:11:14  0:08:29  0:02:45 5178k  0:09:15  0:02:00 5131k  0:11:15  0:09:18  0:01:57 5118k1:15  0:09:20  0:01:55 5114k   0  5171k      0  0:11:15  0:09:22  0:01:53 5125k   0  5169k      0  0:11:15  0:09:43  0:01:32 5107k6  0:10:27  0:00:49 5118k0     0  5165k      0  0:11:16  0:10:33  0:00:43 5132k1:16  0:10:41  0:00:35 5126k:46  0:00:30 5113k:00:23 5117k 0  0:11:16  0:11:09  0:00:07 4976k:--:-- 5240k\n",
      "x lotte/\n",
      "x lotte/science/\n",
      "x lotte/science/test/\n",
      "x lotte/science/test/questions.search.tsv\n",
      "x lotte/science/test/questions.forum.tsv\n",
      "x lotte/science/test/collection.tsv\n",
      "x lotte/science/test/qas.forum.jsonl\n",
      "x lotte/science/test/metadata.jsonl\n",
      "x lotte/science/test/qas.search.jsonl\n",
      "x lotte/science/dev/\n",
      "x lotte/science/dev/questions.search.tsv\n",
      "x lotte/science/dev/questions.forum.tsv\n",
      "x lotte/science/dev/collection.tsv\n",
      "x lotte/science/dev/qas.forum.jsonl\n",
      "x lotte/science/dev/metadata.jsonl\n",
      "x lotte/science/dev/qas.search.jsonl\n",
      "x lotte/writing/\n",
      "x lotte/writing/test/\n",
      "x lotte/writing/test/questions.search.tsv\n",
      "x lotte/writing/test/questions.forum.tsv\n",
      "x lotte/writing/test/collection.tsv\n",
      "x lotte/writing/test/qas.forum.jsonl\n",
      "x lotte/writing/test/metadata.jsonl\n",
      "x lotte/writing/test/qas.search.jsonl\n",
      "x lotte/writing/dev/\n",
      "x lotte/writing/dev/questions.search.tsv\n",
      "x lotte/writing/dev/questions.forum.tsv\n",
      "x lotte/writing/dev/collection.tsv\n",
      "x lotte/writing/dev/qas.forum.jsonl\n",
      "x lotte/writing/dev/metadata.jsonl\n",
      "x lotte/writing/dev/qas.search.jsonl\n",
      "x lotte/recreation/\n",
      "x lotte/recreation/test/\n",
      "x lotte/recreation/test/questions.search.tsv\n",
      "x lotte/recreation/test/questions.forum.tsv\n",
      "x lotte/recreation/test/collection.tsv\n",
      "x lotte/recreation/test/qas.forum.jsonl\n",
      "x lotte/recreation/test/metadata.jsonl\n",
      "x lotte/recreation/test/qas.search.jsonl\n",
      "x lotte/recreation/dev/\n",
      "x lotte/recreation/dev/questions.search.tsv\n",
      "x lotte/recreation/dev/questions.forum.tsv\n",
      "x lotte/recreation/dev/collection.tsv\n",
      "x lotte/recreation/dev/qas.forum.jsonl\n",
      "x lotte/recreation/dev/metadata.jsonl\n",
      "x lotte/recreation/dev/qas.search.jsonl\n",
      "x lotte/lifestyle/\n",
      "x lotte/lifestyle/test/\n",
      "x lotte/lifestyle/test/questions.search.tsv\n",
      "x lotte/lifestyle/test/questions.forum.tsv\n",
      "x lotte/lifestyle/test/collection.tsv\n",
      "x lotte/lifestyle/test/qas.forum.jsonl\n",
      "x lotte/lifestyle/test/metadata.jsonl\n",
      "x lotte/lifestyle/test/qas.search.jsonl\n",
      "x lotte/lifestyle/dev/\n",
      "x lotte/lifestyle/dev/questions.search.tsv\n",
      "x lotte/lifestyle/dev/questions.forum.tsv\n",
      "x lotte/lifestyle/dev/collection.tsv\n",
      "x lotte/lifestyle/dev/qas.forum.jsonl\n",
      "x lotte/lifestyle/dev/metadata.jsonl\n",
      "x lotte/lifestyle/dev/qas.search.jsonl\n",
      "x lotte/evaluate_lotte_rankings.py\n",
      "x lotte/technology/\n",
      "x lotte/technology/test/\n",
      "x lotte/technology/test/questions.search.tsv\n",
      "x lotte/technology/test/questions.forum.tsv\n",
      "x lotte/technology/test/collection.tsv\n",
      "x lotte/technology/test/qas.forum.jsonl\n",
      "x lotte/technology/test/metadata.jsonl\n",
      "x lotte/technology/test/qas.search.jsonl\n",
      "x lotte/technology/dev/\n",
      "x lotte/technology/dev/questions.search.tsv\n",
      "x lotte/technology/dev/questions.forum.tsv\n",
      "x lotte/technology/dev/collection.tsv\n",
      "x lotte/technology/dev/qas.forum.jsonl\n",
      "x lotte/technology/dev/metadata.jsonl\n",
      "x lotte/technology/dev/qas.search.jsonl\n",
      "x lotte/pooled/\n",
      "x lotte/pooled/test/\n",
      "x lotte/pooled/test/questions.search.tsv\n",
      "x lotte/pooled/test/questions.forum.tsv\n",
      "x lotte/pooled/test/collection.tsv\n",
      "x lotte/pooled/test/qas.forum.jsonl\n",
      "x lotte/pooled/test/qas.search.jsonl\n",
      "x lotte/pooled/dev/\n",
      "x lotte/pooled/dev/questions.search.tsv\n",
      "x lotte/pooled/dev/questions.forum.tsv\n",
      "x lotte/pooled/dev/collection.tsv\n",
      "x lotte/pooled/dev/qas.forum.jsonl\n",
      "x lotte/pooled/dev/qas.search.jsonl\n"
     ]
    }
   ],
   "source": [
    "# !curl https://downloads.cs.stanford.edu/nlp/data/colbert/colbertv2/lotte.tar.gz --output lotte.tar.gz\n",
    "# !tar -xvzf lotte.tar.gz\n",
    "# ! cp lotte/science/test/collection.tsv ./rag-qa-benchmarking/science_test_collection.tsv\n",
    "# ! rm lotte.tar.gz"
   ]
  },
  {
   "cell_type": "code",
   "execution_count": 3,
   "metadata": {},
   "outputs": [],
   "source": [
    "import os\n",
    "\n",
    "import pandas as pd"
   ]
  },
  {
   "cell_type": "code",
   "execution_count": 4,
   "metadata": {},
   "outputs": [],
   "source": [
    "questions = pd.read_json(\"rag-qa-benchmarking/annotations_science_with_citation.jsonl\", lines=True)\n",
    "\n",
    "docs = pd.read_csv(\n",
    "    \"rag-qa-benchmarking/science_test_collection.tsv\",\n",
    "    sep=\"\\t\",\n",
    "    header=None,\n",
    ")\n",
    "docs.columns = [\"doc_id\", \"doc_text\"]"
   ]
  },
  {
   "cell_type": "code",
   "execution_count": 17,
   "metadata": {},
   "outputs": [
    {
     "name": "stdout",
     "output_type": "stream",
     "text": [
      "Using 16940 out of 1694041 documents\n"
     ]
    }
   ],
   "source": [
    "percentage_to_use = 1\n",
    "proportion_to_use = percentage_to_use / 100\n",
    "papers_directory = \"rag-qa-benchmarking/lfrqa\"\n",
    "amount_of_docs_to_use = int(len(docs) * proportion_to_use)\n",
    "partial_docs = docs.head(amount_of_docs_to_use)\n",
    "print(f\"Using {amount_of_docs_to_use} out of {len(docs)} documents\")"
   ]
  },
  {
   "cell_type": "code",
   "execution_count": 18,
   "metadata": {},
   "outputs": [],
   "source": [
    "! find rag-qa-benchmarking/lfrqa/science_docs_for_paperqa/files -type f -delete\n",
    "! rm -rf rag-qa-benchmarking/lfrqa/science_docs_for_paperqa_index"
   ]
  },
  {
   "cell_type": "code",
   "execution_count": 19,
   "metadata": {},
   "outputs": [
    {
     "name": "stdout",
     "output_type": "stream",
     "text": [
      "Progress: 0.01%\n",
      "Progress: 5.01%\n",
      "Progress: 10.01%\n",
      "Progress: 15.01%\n",
      "Progress: 20.01%\n",
      "Progress: 25.01%\n",
      "Progress: 30.01%\n",
      "Progress: 35.01%\n",
      "Progress: 40.01%\n",
      "Progress: 45.01%\n",
      "Progress: 50.01%\n",
      "Progress: 55.01%\n",
      "Progress: 60.01%\n",
      "Progress: 65.01%\n",
      "Progress: 70.01%\n",
      "Progress: 75.01%\n",
      "Progress: 80.01%\n",
      "Progress: 85.01%\n",
      "Progress: 90.01%\n",
      "Progress: 95.01%\n"
     ]
    }
   ],
   "source": [
    "os.makedirs(f\"{papers_directory}/science_docs_for_paperqa/files\", exist_ok=True)\n",
    "for i, row in partial_docs.iterrows():\n",
    "    doc_id = row[\"doc_id\"]\n",
    "    doc_text = row[\"doc_text\"]\n",
    "\n",
    "    with open(f\"{papers_directory}/science_docs_for_paperqa/files/{doc_id}.txt\", \"w\", encoding=\"utf-8\") as f:\n",
    "        f.write(doc_text)\n",
    "\n",
    "    if i % int(len(partial_docs) * 0.05) == 0:\n",
    "        progress = (i + 1) / len(partial_docs)\n",
    "        print(f\"Progress: {progress:.2%}\")\n"
   ]
  },
  {
   "cell_type": "code",
   "execution_count": 20,
   "metadata": {},
   "outputs": [],
   "source": [
    "manifest = partial_docs.copy()\n",
    "manifest[\"file_location\"] = manifest[\"doc_id\"].apply(lambda x: f\"files/{x}.txt\")\n",
    "manifest[\"doi\"] = \"\"\n",
    "manifest[\"overwrite_fields_from_metadata\"] = False\n",
    "manifest[\"title\"] = manifest[\"doc_id\"].apply(lambda x: x)\n",
    "manifest[\"key\"] = manifest[\"title\"]\n",
    "manifest[\"docname\"] = manifest[\"title\"]\n",
    "manifest[\"citation\"] = \"_\"\n",
    "manifest = manifest.drop(columns=[\"doc_id\", \"doc_text\"])\n",
    "manifest.to_csv(f\"{papers_directory}/science_docs_for_paperqa/manifest.csv\", index=False)"
   ]
  },
  {
   "cell_type": "code",
   "execution_count": 21,
   "metadata": {},
   "outputs": [],
   "source": [
    "partial_questions = questions[\n",
    "    questions.gold_doc_ids.apply(lambda ids: all(id < amount_of_docs_to_use for id in ids))\n",
    "]\n",
    "partial_questions.to_csv(f\"{papers_directory}/questions.csv\", index=False)"
   ]
  },
  {
   "cell_type": "code",
   "execution_count": 22,
   "metadata": {},
   "outputs": [
    {
     "data": {
      "text/plain": [
       "62"
      ]
     },
     "execution_count": 22,
     "metadata": {},
     "output_type": "execute_result"
    }
   ],
   "source": [
    "len(partial_questions)"
   ]
  },
  {
   "cell_type": "code",
   "execution_count": null,
   "metadata": {},
   "outputs": [],
   "source": []
  }
 ],
 "metadata": {
  "kernelspec": {
   "display_name": ".venv",
   "language": "python",
   "name": "python3"
  },
  "language_info": {
   "codemirror_mode": {
    "name": "ipython",
    "version": 3
   },
   "file_extension": ".py",
   "mimetype": "text/x-python",
   "name": "python",
   "nbconvert_exporter": "python",
   "pygments_lexer": "ipython3",
   "version": "3.12.8"
  }
 },
 "nbformat": 4,
 "nbformat_minor": 2
}
