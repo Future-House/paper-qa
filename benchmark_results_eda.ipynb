{
 "cells": [
  {
   "cell_type": "code",
   "execution_count": 65,
   "metadata": {},
   "outputs": [],
   "source": [
    "import glob\n",
    "import json\n",
    "\n",
    "import pandas as pd\n",
    "\n",
    "# Get all json files in benchmark folder\n",
    "json_files = glob.glob(\"rag-qa-benchmarking/results_gpt-4o-2024-11-20/*.json\")\n",
    "\n",
    "# List to store data from each file\n",
    "data = []\n",
    "\n",
    "# Read each json file\n",
    "for file in json_files:\n",
    "    with open(file) as f:\n",
    "        json_data = json.load(f)\n",
    "        # Extract qid from filename\n",
    "        qid = file.split(\"/\")[-1].replace(\".json\", \"\")\n",
    "        json_data[\"qid\"] = qid\n",
    "        data.append(json_data)\n",
    "\n",
    "# Create dataframe\n",
    "df = pd.DataFrame(data).set_index(\"qid\")\n"
   ]
  },
  {
   "cell_type": "code",
   "execution_count": 66,
   "metadata": {},
   "outputs": [],
   "source": [
    "df[\"llm_thinking\"] = df[\"llm_response\"].str.extract(r\"<thinking>(.*?)</thinking>\", expand=False).str.strip()\n",
    "df = df.drop(\"llm_response\", axis=1)"
   ]
  },
  {
   "cell_type": "code",
   "execution_count": 67,
   "metadata": {},
   "outputs": [
    {
     "name": "stdout",
     "output_type": "stream",
     "text": [
      "Total questions: 20\n",
      "Proportion of questions where PaperQA won: 0.95 total: 19\n",
      "\n",
      "================================================================================\n",
      "Question: what is the charge of n type semiconductor?\n",
      "\n",
      "PaperQA Answer:\n",
      "An n-type semiconductor is primarily negatively charged due to the abundance of free electrons, which are the majority charge carriers. This negative charge arises from the substitution of a Group 14 atom in the crystal lattice with a Group 15 atom, introducing extra electrons into the conduction band (1519498 chunk 1). The overall charge of the n-type semiconductor is determined by these free electrons, making it negatively charged .\n",
      "\n",
      "However, when an n-type semiconductor is paired with a p-type semiconductor to form a p-n junction, the region near the junction on the n-type side develops a layer of positive charge carriers. This occurs due to the movement of electrons from the n-type material into the p-type material, where they fill holes. Despite this localized positive charge near the junction, the overall charge of the n-type semiconductor remains negative because of the dominance of free electrons as majority carriers (1593004 chunk 1).\n",
      "\n",
      "In specific cases, such as in the depletion region of a p-n junction, the n-type semiconductor can exhibit a strong positive volume charge due to its electronic structure, contributing to the electrostatic field in the depletion region (1519496 chunk 1).\n",
      "\n",
      "Human Answer:\n",
      "The material in an n-type semiconductor by itself has mainly negative charge carriers (electrons) which are able to move freely, but it is actually neutral thanks to the fixed donor atoms which, having donated electrons, are positive. \n",
      "Since each atom in the semiconductor is balanced with the appropriate number of electrons, the result is no surplus or deficiency.\n",
      "\n",
      "LLM Response:\n",
      "Answer 1 contains some inaccuracies, such as stating the n-type semiconductor is \"primarily negatively charged,\" which is incorrect as the material is overall neutral. Answer 2 correctly explains the neutrality of the n-type semiconductor due to the balance of free electrons and fixed donor atoms.\n",
      "\n",
      "\n"
     ]
    }
   ],
   "source": [
    "print(\"Total questions:\", df.shape[0])\n",
    "print(\"Proportion of questions where PaperQA won:\", df[\"winner\"].value_counts(normalize=True)[\"paperqa\"], \"total:\", df[\"winner\"].value_counts()[\"paperqa\"])\n",
    "# print(\"Proportion of questions where there was a tie:\", df['winner'].value_counts(normalize=True)['tie'], \"total:\", df['winner'].value_counts()['tie'])\n",
    "# print(\"Proportion of questions where human won:\", df['winner'].value_counts(normalize=True)['human'], \"total:\", df['winner'].value_counts()['human'])\n",
    "print()\n",
    "\n",
    "df_human_winner = df[df[\"winner\"] == \"human\"]\n",
    "for idx, row in df_human_winner.iterrows():\n",
    "    print(\"=\" * 80)\n",
    "    print(f\"Question: {row['question']}\")\n",
    "    print(f\"\\nPaperQA Answer:\\n{row['paperqa_answer']}\")\n",
    "    print(f\"\\nHuman Answer:\\n{row['human_answer']}\")\n",
    "    print(f\"\\nLLM Response:\\n{row['llm_thinking']}\")\n",
    "    print(\"\\n\")\n"
   ]
  },
  {
   "cell_type": "code",
   "execution_count": 68,
   "metadata": {},
   "outputs": [
    {
     "data": {
      "text/plain": [
       "were_gt_docs_found\n",
       "False    0.55\n",
       "True     0.45\n",
       "Name: proportion, dtype: float64"
      ]
     },
     "execution_count": 68,
     "metadata": {},
     "output_type": "execute_result"
    }
   ],
   "source": [
    "df[\"were_gt_docs_found\"].value_counts(normalize=True)"
   ]
  },
  {
   "cell_type": "code",
   "execution_count": 69,
   "metadata": {},
   "outputs": [],
   "source": [
    "docs = pd.read_csv(\n",
    "    \"rag-qa-benchmarking/science_test_collection.tsv\",\n",
    "    sep=\"\\t\",\n",
    "    header=None,\n",
    ")\n",
    "docs.columns = [\"doc_id\", \"doc_text\"]"
   ]
  },
  {
   "cell_type": "code",
   "execution_count": 71,
   "metadata": {},
   "outputs": [
    {
     "name": "stdout",
     "output_type": "stream",
     "text": [
      "Was GT docs found? False\n",
      "Question: a body is moving with a constant velocity?\n",
      "================================================================================\n",
      "References\n",
      "\n",
      "Document 1509624: The zero force related to zero acceleration is not a property of the object, it is a statement about the forces acting on the body. That is your title should not read \"has no force\" but \"is subject to no net force\". If a body has a non-zero, but constant, velocity then we know that the total of all the forces applied to it is zero (from Newton's Laws). We also know that is has non-zero \"momentum\", and when it collides with another object some (or all) of that momentum can be transferred to the other object. During the collision the body is subjected to new forces and the net force is no longer zero meaning that it will accelerate.\n",
      "\n",
      "Final Answer\n",
      "\n",
      "If a body has a non-zero, but constant, velocity then we know from Newton's Law that the total of all the forces applied to it is zero. \n",
      "We also know that it has non-zero momentum, and when it collides with another object, some (or all) of that momentum can be transferred to the other object.\n",
      "================================================================================\n",
      "References\n",
      "\n",
      "Document 1620147: F=ma and for constant velocity acceleration is zero so force should be zero... But how's that even possible? Cause of motion is force and how can body be moving if no net force is acting on it? Example 1: a body moving on a frictionless surface at constant velocity has no net force acting upon it. A force would be required to start it moving, but no force is necessary to keep it moving. Example 2: A body moving at constant velocity on a surface with friction where the force pushing the body exactly equals the opposing kinetic friction force. There is no net force, yet the body is moving. Once again a net force would be required initially to overcome static friction, but once the body starts moving all that is needed is a force equal to the opposing kinetic friction force to keep it moving. Hope this helps.\n",
      "Document 1630848: Newton's first law doesn't talk about a body moving at constant speed, but about a body moving at constant velocity. Your skateboarder, travelling on a curved path, does not have a constant velocity, and must therefore be acted upon by a resultant force.\n",
      "Document 1476733: One might say, to be specific: a perfect wind with constant density $\\rho$, pressure $P$, velocity $v$ produces the same effect on a body at rest, as on a body, which is moving with velocity $v$ in a still medium of pressure $P$ and density $\\rho$. Should you want to specify any other physical parameters, they should be taken the same for the media in both cases. The statement is guaranteed to be true by galilean invarince. You see a body moving with velocity $v$ in a medium, you start to move yourself with velocity $v$, and you see the body standing still and a wind blowing with velocity $v$. The same physics - just a different reference frame.\n",
      "Document 1638662: Notice, $V=R\\omega$ is the linear or tangential velocity of any particle of a body rotating at angular speed $\\omega$ at a particular instant of time $t$ because the tangential velocity $V=R\\omega$ keeps on changing in direction from instant to instant while the magnitude $R\\omega$ is constant if angular velocity $\\omega$ of rotating body is constant. Therefore, every point of a rotating body has a linear or tangential velocity at a every instant of time. A body moving at a velocity $V$ along a straight line can also be assumed to be moving on circle of ideally infinite radius.\n",
      "Document 1657715: Is 0 net force a consequence of being at rest or moving with constant velocity Yes. It's not a physical consequence, though. Constant velocity (which is also the case for a body at rest) implies zero force (which is connected to acceleration by a factor m), but it doesn't cause it. Force on a body is caused by some agent external to the body. Which is the other way round. Constant velocity implies zero force. Zero force doesn't cause zero velocity. There is no force so how can it cause anything. A finite force can cause a velocity to change. This is a semantic issue on the meaning of cause, I guess though.\n",
      "Document 1558003: If a body is moving, this doesn't mean that a net force certainly must be exerted on it. It can move without any net force (First Law of Newton). You might say \"How that body has started its motion without any net fore?\" The answer is: \"Equations of motion are moment equations, i.e. they are stated for moments not for a time interval ($F(t_0)=ma(t_0)$). So when we say a body is moving without any net force, we mean at that instance ($t$), net force acting on it is zero and it is moving with constant velocity at that instance.(It is obvious that net force can be zero for a time interval ($t_1 \\le t \\le t_2$). Then, $F(t)=ma(t)=0\\;,\\;t_1 \\le t \\le t_2$)\" If a body is moving with constant velocity, this doesn't mean that no force is exerted on it. It is possible that some forces are exerted on it but net (resultant) force is equal to zero.\n",
      "Document 1635524: In the equation $v=r \\omega$, as used at high school level, all three quantities are scalars. In particular, $v$ is not velocity but the magnitude of the velocity, that is $speed$. For a body in circular motion at constant speed, $r$, $v$ and $\\omega$ are all constant. But the body's velocity is constantly changing because the direction in which it is moving is constantly changing. By analysing this in detail we find that the body has an acceleration towards the centre of the circle. There is no tangential acceleration, that is acceleration 'around' the circle. The equation $a=r \\alpha$ that you quote is again a relationship between scalars. $a$ in this equation is the magnitude of the tangential component of a body's acceleration. So it is zero for a body moving in a circle at constant speed. Only if the body's speed is changing is $a$ non-zero.\n",
      "Document 1541284: Only uniform transalatory motion(moving with constant speed in a fixed direction) is relative. If you change the magnitude of your velocity or your direction then you're accelerating as dictated by Newton's first law. A body in circular motion with constant speed is an accelerating object since it's constantly changing its direction. Therefore the principle of relativity cannot be applied to it, that is, a body in constant circular motion cannot assume a state of rest and it's the other frame that is moving around.\n",
      "\n",
      "Final Answer\n",
      "\n",
      "A body moving with constant velocity implies that the net force acting on it is zero. According to Newton's First Law, an object will maintain its state of motion, including constant velocity, unless acted upon by a net external force. This means that while forces may still act on the body, they must balance each other out, resulting in no acceleration . \n",
      "\n",
      "For example, on a frictionless surface, no force is required to sustain motion once it has started. However, on a surface with friction, an applied force equal in magnitude and opposite in direction to the kinetic friction force is necessary to maintain constant velocity. In both cases, a net force is required to initiate motion, but not to sustain it at constant velocity (1620147 chunk 1). \n",
      "\n",
      "It is important to note that constant velocity refers to both unchanging speed and direction. A body moving along a curved path does not have constant velocity because the change in direction constitutes a change in velocity, even if the speed remains constant (1630848 chunk 1). \n",
      "\n",
      "Zero net force does not cause constant velocity but allows it to persist. A finite force is required to alter the velocity of a body (1657715 chunk 1).\n"
     ]
    }
   ],
   "source": [
    "row = df.iloc[5]\n",
    "print(\"Was GT docs found?\", row[\"were_gt_docs_found\"])\n",
    "print(f\"Question: {row['question']}\")\n",
    "print(\"=\" * 80)\n",
    "\n",
    "complete_human_answer = \"\"\n",
    "complete_human_answer += \"References\\n\\n\"\n",
    "for _id in row[\"gt_doc_ids\"]:\n",
    "    complete_human_answer += f\"Document {_id}: {docs[docs['doc_id'] == _id]['doc_text'].values[0]}\\n\"\n",
    "\n",
    "complete_human_answer += \"\\nFinal Answer\\n\"\n",
    "complete_human_answer += \"\\n\" + row[\"human_answer\"]\n",
    "\n",
    "print(complete_human_answer)\n",
    "\n",
    "print(\"=\" * 80)\n",
    "\n",
    "complete_pqa_answer = \"\"\n",
    "complete_pqa_answer += \"References\\n\\n\"\n",
    "for _id in row[\"paper_search_ids\"]:\n",
    "    complete_pqa_answer += f\"Document {_id}: {docs[docs['doc_id'] == _id]['doc_text'].values[0]}\\n\"\n",
    "\n",
    "complete_pqa_answer += \"\\nFinal Answer\\n\"\n",
    "complete_pqa_answer += \"\\n\" + row[\"paperqa_answer\"]\n",
    "\n",
    "print(complete_pqa_answer)"
   ]
  },
  {
   "cell_type": "code",
   "execution_count": null,
   "metadata": {},
   "outputs": [],
   "source": []
  }
 ],
 "metadata": {
  "kernelspec": {
   "display_name": ".venv",
   "language": "python",
   "name": "python3"
  },
  "language_info": {
   "codemirror_mode": {
    "name": "ipython",
    "version": 3
   },
   "file_extension": ".py",
   "mimetype": "text/x-python",
   "name": "python",
   "nbconvert_exporter": "python",
   "pygments_lexer": "ipython3",
   "version": "3.12.8"
  }
 },
 "nbformat": 4,
 "nbformat_minor": 2
}
