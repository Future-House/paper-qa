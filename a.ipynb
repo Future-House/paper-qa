{
 "cells": [
  {
   "cell_type": "markdown",
   "metadata": {},
   "source": []
  },
  {
   "cell_type": "code",
   "execution_count": 1,
   "metadata": {},
   "outputs": [],
   "source": [
    "import paperqa\n",
    "from paperqa import Docs, Settings\n",
    "from aviary.core import Message\n",
    "from PIL import Image\n",
    "from IPython.display import display\n",
    "import numpy as np"
   ]
  },
  {
   "cell_type": "code",
   "execution_count": 42,
   "metadata": {},
   "outputs": [],
   "source": [
    "# valid extensions include .pdf, .txt, and .html\n",
    "doc_paths = [\"./tests/stub_data/paper.pdf\"]\n",
    "\n",
    "# Prepare the Docs object by adding a bunch of documents\n",
    "docs = Docs()\n",
    "# for doc_path in doc_paths:\n",
    "#     await docs.aadd(doc_path)\n",
    "\n",
    "# Set up how we want to query the Docs object\n",
    "settings = Settings()\n",
    "settings.llm = \"claude-3-5-sonnet-20240620\" #\"gpt-4o-mini\"\n",
    "settings.answer.answer_max_sources = 3\n",
    "settings.answer.get_evidence_if_no_contexts = True\n",
    "# settings.embedding = \"cohere/embed-english-v3.0\""
   ]
  },
  {
   "cell_type": "code",
   "execution_count": 43,
   "metadata": {},
   "outputs": [
    {
     "name": "stdout",
     "output_type": "stream",
     "text": [
      "166013\n"
     ]
    }
   ],
   "source": [
    "import os\n",
    "\n",
    "import litellm\n",
    "from llmclient import LiteLLMModel, MultipleCompletionLLMModel  \n",
    "\n",
    "# os.environ['LITELLM_LOG'] = 'DEBUG'\n",
    "\n",
    "question = Message(role=\"user\", content=\"Look at the document available and tell me what it is about?\")\n",
    "\n",
    "img = Image.open(\"./003.jpg\")\n",
    "img.thumbnail((512, 512))\n",
    "img_array = np.array(img)\n",
    "\n",
    "question = Message.create_message(\n",
    "    role=\"user\",\n",
    "    text=\"At what timepoint does the protein begin to disintegrate noticeably?\",\n",
    "    image=img_array,\n",
    "    )\n",
    "\n",
    "# llm = LiteLLMModel(name=\"gpt-4o-mini\")\n",
    "# # llm = MultipleCompletionLLMModel(name=\"claude-3-5-sonnet-20240620\")\n",
    "# assert litellm.supports_vision(model=llm.name)\n",
    "# completion = await llm.achat([question])\n",
    "\n",
    "print(len(question.content))\n",
    "session = await docs.aquery(\n",
    "    query=question,  # \"What is a counterfactual?\",\n",
    "    settings=settings,\n",
    ")"
   ]
  },
  {
   "cell_type": "code",
   "execution_count": 44,
   "metadata": {},
   "outputs": [
    {
     "name": "stdout",
     "output_type": "stream",
     "text": [
      "Based on the image provided, I cannot definitively answer at what specific timepoint the protein begins to disintegrate noticeably. The image shows a series of protein structures at different timepoints, but without clear labels or a timescale, it is not possible to pinpoint an exact moment when disintegration becomes apparent. The structures appear to maintain their overall shape through most of the frames, with some subtle changes visible in later frames. However, without more context or quantitative data, I cannot make a precise determination about when noticeable disintegration occurs. The image alone does not provide sufficient information to answer the question with confidence.\n"
     ]
    }
   ],
   "source": [
    "print(session.answer)"
   ]
  },
  {
   "cell_type": "markdown",
   "metadata": {},
   "source": []
  },
  {
   "cell_type": "code",
   "execution_count": 3,
   "metadata": {},
   "outputs": [],
   "source": [
    "import pymupdf"
   ]
  },
  {
   "cell_type": "code",
   "execution_count": null,
   "metadata": {},
   "outputs": [],
   "source": [
    "images = {}\n",
    "drawings = {}\n",
    "with pymupdf.open(\"./tests/stub_data/paper.pdf\") as file:\n",
    "    for i in range(file.page_count):\n",
    "        page = file.load_page(i)\n",
    "        imgs = page.get_images()\n",
    "        draws = page.get_cdrawings()\n",
    "        for j, img in enumerate(imgs):\n",
    "            xref = img[0]\n",
    "            image = file.extract_image(xref)[\"image\"]\n",
    "            images[f\"{i + 1}:{j + 1}\"] = image\n",
    "        for j, draw in enumerate(draws):\n",
    "            drawings[f\"{i + 1}:{j + 1}\"] = draw"
   ]
  },
  {
   "cell_type": "code",
   "execution_count": null,
   "metadata": {},
   "outputs": [],
   "source": [
    "import fitz  # PyMuPDF\n",
    "import matplotlib.pyplot as plt\n",
    "from matplotlib.patches import PathPatch\n",
    "from matplotlib.path import Path\n",
    "\n",
    "def visualize_pdf_drawings(pdf_path):\n",
    "    \"\"\"\n",
    "    Extracts and visualizes drawings from each page of a PDF file using PyMuPDF.\n",
    "    \n",
    "    Args:\n",
    "        pdf_path (str): The path to the PDF file.\n",
    "    \"\"\"\n",
    "    # Open the PDF file\n",
    "    pdf_document = fitz.open(pdf_path)\n",
    "\n",
    "    for page_num, page in enumerate(pdf_document, start=1):\n",
    "        drawings = page.get_drawings()\n",
    "        # print(f\"Page {page_num}: {len(drawings)} drawing objects extracted.\")\n",
    "        if (\n",
    "            not drawings\n",
    "            or\n",
    "            len(drawings)<50\n",
    "        ): continue\n",
    "        fig, ax = plt.subplots(figsize=(10, 10))\n",
    "        ax.set_title(f\"Page {page_num} Drawings\")\n",
    "        ax.set_aspect('equal')\n",
    "        ax.axis('off')\n",
    "        # Loop through extracted drawings\n",
    "        for drawing in drawings:\n",
    "            if 'items' not in drawing:\n",
    "                continue\n",
    "            for item in drawing['items']:\n",
    "                command = item[0]\n",
    "                points = item[1:]\n",
    "\n",
    "                # Handle curve commands ('c')\n",
    "                if command == 'c':\n",
    "                    # Draw cubic Bézier curves\n",
    "                    path_data = [\n",
    "                        (Path.MOVETO, (points[0].x, points[0].y)),\n",
    "                        (Path.CURVE4, (points[1].x, points[1].y)),\n",
    "                        (Path.CURVE4, (points[2].x, points[2].y)),\n",
    "                        (Path.CURVE4, (points[3].x, points[3].y)),\n",
    "                    ]\n",
    "                    codes, verts = zip(*path_data)\n",
    "                    path = Path(verts, codes)\n",
    "                    patch = PathPatch(path, facecolor='none', edgecolor='blue', lw=1)\n",
    "                    ax.add_patch(patch)\n",
    "\n",
    "                # Handle line commands ('l')\n",
    "                elif command == 'l':\n",
    "                    start_point = points[0]\n",
    "                    end_point = points[1]\n",
    "                    ax.plot(\n",
    "                        [start_point.x, end_point.x],\n",
    "                        [start_point.y, end_point.y],\n",
    "                        color='black', lw=1\n",
    "                    )\n",
    "    plt.show()\n",
    "\n",
    "    pdf_document.close()\n",
    "\n",
    "visualize_pdf_drawings(\"./tests/stub_data/paper.pdf\")"
   ]
  },
  {
   "cell_type": "code",
   "execution_count": 38,
   "metadata": {},
   "outputs": [],
   "source": [
    "from IPython.display import display\n",
    "\n",
    "pdf = pymupdf.open(\"tests/stub_data/paper.pdf\")\n",
    "page = pdf[17]\n",
    "\n",
    "# https://github.com/pymupdf/PyMuPDF/discussions/3508\n",
    "bboxes = page.cluster_drawings()\n",
    "for i, bbox in enumerate(bboxes):\n",
    "    pix = page.get_pixmap(clip=bbox, dpi=600)\n",
    "    pix_bytes = pix.tobytes()\n",
    "    # display(Image(data=pix_bytes))\n",
    "    pix.save(f\"image_{i}.png\")"
   ]
  },
  {
   "cell_type": "code",
   "execution_count": null,
   "metadata": {},
   "outputs": [],
   "source": [
    "ref = pdf[18].get_images()\n",
    "print(ref)\n",
    "# pdf.extract_image(ref[0])"
   ]
  },
  {
   "cell_type": "code",
   "execution_count": null,
   "metadata": {},
   "outputs": [],
   "source": [
    "import os\n",
    "from pathlib import Path\n",
    "\n",
    "\n",
    "def parse_pdf_images(pdf_path, output_dir):\n",
    "    \"\"\"\n",
    "    Extracts all images from a PDF file and saves them to the specified output directory.\n",
    "\n",
    "    Parameters:\n",
    "        pdf_path (str): Path to the PDF file.\n",
    "        output_dir (str): Directory where extracted images will be saved.\n",
    "\n",
    "    Returns:\n",
    "        list: A list of file paths to the extracted images.\n",
    "    \"\"\"\n",
    "    if not os.path.exists(output_dir):\n",
    "        os.makedirs(output_dir)\n",
    "\n",
    "    # Open the PDF file\n",
    "    pdf_document = pymupdf.open(pdf_path)\n",
    "    image_paths = []\n",
    "\n",
    "    for page_num in range(len(pdf_document)):\n",
    "        # Get the current page\n",
    "        page = pdf_document[page_num]\n",
    "        images = page.get_images()  # Get all images on the page\n",
    "\n",
    "        for img_index, img in enumerate(images):\n",
    "            xref = img[0]  # Get the XREF of the image\n",
    "            base_image = pdf_document.extract_image(xref)  # Extract the image\n",
    "            image_bytes = base_image[\"image\"]\n",
    "            image_ext = base_image[\"ext\"]  # Image extension (e.g., png, jpg)\n",
    "\n",
    "            # Create a filename for the image\n",
    "            image_filename = f\"page_{page_num + 1}_img_{img_index + 1}.{image_ext}\"\n",
    "            image_path = os.path.join(output_dir, image_filename)\n",
    "\n",
    "            Path(image_path).write_bytes(image_bytes)\n",
    "\n",
    "            image_paths.append(image_path)\n",
    "\n",
    "    pdf_document.close()\n",
    "    return image_paths\n",
    "\n",
    "\n",
    "pdf_path = \"./tests/stub_data/paper.pdf\"\n",
    "output_dir = \"extracted_images\"\n",
    "extracted_images = parse_pdf_images(pdf_path, output_dir)\n",
    "print(f\"Extracted {len(extracted_images)} images:\")\n",
    "print(\"\\n\".join(extracted_images))\n"
   ]
  },
  {
   "cell_type": "code",
   "execution_count": null,
   "metadata": {},
   "outputs": [],
   "source": [
    "from IPython.display import display\n",
    "from PIL import Image\n",
    "\n",
    "for image_path in extracted_images:\n",
    "    img = Image.open(image_path)\n",
    "    # Make display show it smaller\n",
    "    img.thumbnail((250, 250))\n",
    "    display(img)\n",
    "    break"
   ]
  },
  {
   "cell_type": "code",
   "execution_count": null,
   "metadata": {},
   "outputs": [],
   "source": [
    "import numpy as np\n",
    "from aviary.core import encode_image_to_base64\n",
    "\n",
    "Image.open(extracted_images[0])\n",
    "image = np.array(Image.open(extracted_images[0]))\n",
    "encode_image_to_base64(image)"
   ]
  },
  {
   "cell_type": "code",
   "execution_count": null,
   "metadata": {},
   "outputs": [],
   "source": [
    "from aviary.core import encode_image_to_base64\n",
    "\n",
    "pdf = pymupdf.open(\"tests/stub_data/paper.pdf\")\n",
    "page = pdf[17]\n",
    "pix = page.get_pixmap(dpi=600)\n",
    "pix_bytes = pix.tobytes()\n",
    "\n",
    "# Convert the pixmap to a numpy array\n",
    "pix_array = np.frombuffer(pix.tobytes(), dtype=np.uint8)\n",
    "a = encode_image_to_base64(pix_array)"
   ]
  },
  {
   "cell_type": "markdown",
   "metadata": {},
   "source": [
    "# "
   ]
  },
  {
   "cell_type": "code",
   "execution_count": null,
   "metadata": {},
   "outputs": [],
   "source": [
    "import paperqa\n",
    "\n",
    "docs = paperqa.Docs()\n",
    "await docs.aadd(\"tests/stub_data/paper.pdf\")\n",
    "\n"
   ]
  },
  {
   "cell_type": "code",
   "execution_count": null,
   "metadata": {},
   "outputs": [],
   "source": [
    "answer = await docs.aquery(\"What is XAI?\")"
   ]
  },
  {
   "cell_type": "code",
   "execution_count": null,
   "metadata": {},
   "outputs": [],
   "source": [
    "# print(answer)\n",
    "\n",
    "print(answer.answer)"
   ]
  }
 ],
 "metadata": {
  "kernelspec": {
   "display_name": ".venv",
   "language": "python",
   "name": "python3"
  },
  "language_info": {
   "codemirror_mode": {
    "name": "ipython",
    "version": 3
   },
   "file_extension": ".py",
   "mimetype": "text/x-python",
   "name": "python",
   "nbconvert_exporter": "python",
   "pygments_lexer": "ipython3",
   "version": "3.12.7"
  }
 },
 "nbformat": 4,
 "nbformat_minor": 2
}
